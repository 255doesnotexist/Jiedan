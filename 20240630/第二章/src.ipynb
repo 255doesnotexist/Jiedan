{
 "cells": [
  {
   "cell_type": "markdown",
   "id": "07446bb5-e401-41ca-9fa8-47e1f0775358",
   "metadata": {},
   "source": [
    "实训一：使用数组比较运算对超市牛奶价格进行对比"
   ]
  },
  {
   "cell_type": "code",
   "execution_count": 7,
   "id": "5b041a00-bebe-4fb2-a796-8697627c0717",
   "metadata": {},
   "outputs": [
    {
     "name": "stdout",
     "output_type": "stream",
     "text": [
      "A 超市的牛奶价格是否大于 B 超市的牛奶价格： [ True False  True False  True]\n"
     ]
    }
   ],
   "source": [
    "import numpy as np\n",
    "\n",
    "# A 超市的牛奶价格\n",
    "milk_a = np.array([19.9, 25, 29.9, 45, 39.9])\n",
    "\n",
    "# B 超市的牛奶价格\n",
    "milk_b = np.array([18.9, 25, 24.9, 49, 35.9])\n",
    "\n",
    "comparison = milk_a > milk_b\n",
    "print(\"A 超市的牛奶价格是否大于 B 超市的牛奶价格：\", comparison)"
   ]
  },
  {
   "cell_type": "markdown",
   "id": "bfe74f8f-e60b-4e05-ad81-3d60da94b949",
   "metadata": {},
   "source": [
    "实训二：创建 6x6 的简单数独游戏矩阵\n"
   ]
  },
  {
   "cell_type": "code",
   "execution_count": 8,
   "id": "3add3ab0-e3cd-42d0-91af-ed78be796c17",
   "metadata": {},
   "outputs": [
    {
     "name": "stdout",
     "output_type": "stream",
     "text": [
      "6x6 数独游戏矩阵：\n",
      "[[1 2 3 4 5 6]\n",
      " [2 3 4 5 6 1]\n",
      " [3 4 5 6 1 2]\n",
      " [4 5 6 1 2 3]\n",
      " [5 6 1 2 3 4]\n",
      " [6 1 2 3 4 5]]\n"
     ]
    }
   ],
   "source": [
    "# 创建一个 6x6 的矩阵\n",
    "sudoku = np.zeros((6,6), dtype=int)\n",
    "\n",
    "# 填充矩阵，确保每行和每列的数字为 1-6 且不重复\n",
    "sudoku[0] = [1, 2, 3, 4, 5, 6]\n",
    "sudoku[1] = [2, 3, 4, 5, 6, 1]\n",
    "sudoku[2] = [3, 4, 5, 6, 1, 2]\n",
    "sudoku[3] = [4, 5, 6, 1, 2, 3]\n",
    "sudoku[4] = [5, 6, 1, 2, 3, 4]\n",
    "sudoku[5] = [6, 1, 2, 3, 4, 5]\n",
    "\n",
    "print(\"6x6 数独游戏矩阵：\")\n",
    "print(sudoku)"
   ]
  },
  {
   "cell_type": "code",
   "execution_count": null,
   "id": "be603309-478f-41dc-8e9a-986f66a0e036",
   "metadata": {},
   "outputs": [],
   "source": []
  }
 ],
 "metadata": {
  "kernelspec": {
   "display_name": "Python 3 (ipykernel)",
   "language": "python",
   "name": "python3"
  },
  "language_info": {
   "codemirror_mode": {
    "name": "ipython",
    "version": 3
   },
   "file_extension": ".py",
   "mimetype": "text/x-python",
   "name": "python",
   "nbconvert_exporter": "python",
   "pygments_lexer": "ipython3",
   "version": "3.10.13"
  }
 },
 "nbformat": 4,
 "nbformat_minor": 5
}
