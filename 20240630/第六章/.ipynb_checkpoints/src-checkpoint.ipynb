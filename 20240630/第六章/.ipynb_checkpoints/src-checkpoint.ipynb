{
 "cells": [
  {
   "cell_type": "markdown",
   "id": "ecaa9a36-9596-4ca7-989b-79338e49e9e1",
   "metadata": {},
   "source": [
    "# 实训1：使用 sklearn 处理竞标行为数据集\n"
   ]
  },
  {
   "cell_type": "markdown",
   "id": "4071960b-ba27-4a5f-ad49-844c6fcaadd1",
   "metadata": {},
   "source": [
    "步骤1：导入必要的库和数据集\n"
   ]
  },
  {
   "cell_type": "code",
   "execution_count": 3,
   "id": "57fbf541-ee2c-4e71-a57c-fad50501f1b5",
   "metadata": {},
   "outputs": [
    {
     "data": {
      "text/html": [
       "<div>\n",
       "<style scoped>\n",
       "    .dataframe tbody tr th:only-of-type {\n",
       "        vertical-align: middle;\n",
       "    }\n",
       "\n",
       "    .dataframe tbody tr th {\n",
       "        vertical-align: top;\n",
       "    }\n",
       "\n",
       "    .dataframe thead th {\n",
       "        text-align: right;\n",
       "    }\n",
       "</style>\n",
       "<table border=\"1\" class=\"dataframe\">\n",
       "  <thead>\n",
       "    <tr style=\"text-align: right;\">\n",
       "      <th></th>\n",
       "      <th>Record_ID</th>\n",
       "      <th>Auction_ID</th>\n",
       "      <th>Bidder_ID</th>\n",
       "      <th>Bidder_Tendency</th>\n",
       "      <th>Bidding_Ratio</th>\n",
       "      <th>Successive_Outbidding</th>\n",
       "      <th>Last_Bidding</th>\n",
       "      <th>Auction_Bids</th>\n",
       "      <th>Starting_Price_Average</th>\n",
       "      <th>Early_Bidding</th>\n",
       "      <th>Winning_Ratio</th>\n",
       "      <th>Auction_Duration</th>\n",
       "      <th>Class</th>\n",
       "    </tr>\n",
       "  </thead>\n",
       "  <tbody>\n",
       "    <tr>\n",
       "      <th>0</th>\n",
       "      <td>1</td>\n",
       "      <td>732</td>\n",
       "      <td>_***i</td>\n",
       "      <td>0.200000</td>\n",
       "      <td>0.400000</td>\n",
       "      <td>0.0</td>\n",
       "      <td>0.000028</td>\n",
       "      <td>0.0</td>\n",
       "      <td>0.993593</td>\n",
       "      <td>0.000028</td>\n",
       "      <td>0.666667</td>\n",
       "      <td>5</td>\n",
       "      <td>0</td>\n",
       "    </tr>\n",
       "    <tr>\n",
       "      <th>1</th>\n",
       "      <td>2</td>\n",
       "      <td>732</td>\n",
       "      <td>g***r</td>\n",
       "      <td>0.024390</td>\n",
       "      <td>0.200000</td>\n",
       "      <td>0.0</td>\n",
       "      <td>0.013123</td>\n",
       "      <td>0.0</td>\n",
       "      <td>0.993593</td>\n",
       "      <td>0.013123</td>\n",
       "      <td>0.944444</td>\n",
       "      <td>5</td>\n",
       "      <td>0</td>\n",
       "    </tr>\n",
       "    <tr>\n",
       "      <th>2</th>\n",
       "      <td>3</td>\n",
       "      <td>732</td>\n",
       "      <td>t***p</td>\n",
       "      <td>0.142857</td>\n",
       "      <td>0.200000</td>\n",
       "      <td>0.0</td>\n",
       "      <td>0.003042</td>\n",
       "      <td>0.0</td>\n",
       "      <td>0.993593</td>\n",
       "      <td>0.003042</td>\n",
       "      <td>1.000000</td>\n",
       "      <td>5</td>\n",
       "      <td>0</td>\n",
       "    </tr>\n",
       "    <tr>\n",
       "      <th>3</th>\n",
       "      <td>4</td>\n",
       "      <td>732</td>\n",
       "      <td>7***n</td>\n",
       "      <td>0.100000</td>\n",
       "      <td>0.200000</td>\n",
       "      <td>0.0</td>\n",
       "      <td>0.097477</td>\n",
       "      <td>0.0</td>\n",
       "      <td>0.993593</td>\n",
       "      <td>0.097477</td>\n",
       "      <td>1.000000</td>\n",
       "      <td>5</td>\n",
       "      <td>0</td>\n",
       "    </tr>\n",
       "    <tr>\n",
       "      <th>4</th>\n",
       "      <td>5</td>\n",
       "      <td>900</td>\n",
       "      <td>z***z</td>\n",
       "      <td>0.051282</td>\n",
       "      <td>0.222222</td>\n",
       "      <td>0.0</td>\n",
       "      <td>0.001318</td>\n",
       "      <td>0.0</td>\n",
       "      <td>0.000000</td>\n",
       "      <td>0.001242</td>\n",
       "      <td>0.500000</td>\n",
       "      <td>7</td>\n",
       "      <td>0</td>\n",
       "    </tr>\n",
       "  </tbody>\n",
       "</table>\n",
       "</div>"
      ],
      "text/plain": [
       "   Record_ID  Auction_ID Bidder_ID  Bidder_Tendency  Bidding_Ratio  \\\n",
       "0          1         732     _***i         0.200000       0.400000   \n",
       "1          2         732     g***r         0.024390       0.200000   \n",
       "2          3         732     t***p         0.142857       0.200000   \n",
       "3          4         732     7***n         0.100000       0.200000   \n",
       "4          5         900     z***z         0.051282       0.222222   \n",
       "\n",
       "   Successive_Outbidding  Last_Bidding  Auction_Bids  Starting_Price_Average  \\\n",
       "0                    0.0      0.000028           0.0                0.993593   \n",
       "1                    0.0      0.013123           0.0                0.993593   \n",
       "2                    0.0      0.003042           0.0                0.993593   \n",
       "3                    0.0      0.097477           0.0                0.993593   \n",
       "4                    0.0      0.001318           0.0                0.000000   \n",
       "\n",
       "   Early_Bidding  Winning_Ratio  Auction_Duration  Class  \n",
       "0       0.000028       0.666667                 5      0  \n",
       "1       0.013123       0.944444                 5      0  \n",
       "2       0.003042       1.000000                 5      0  \n",
       "3       0.097477       1.000000                 5      0  \n",
       "4       0.001242       0.500000                 7      0  "
      ]
     },
     "metadata": {},
     "output_type": "display_data"
    }
   ],
   "source": [
    "import pandas as pd\n",
    "from sklearn.model_selection import train_test_split\n",
    "from sklearn.preprocessing import StandardScaler\n",
    "from sklearn.decomposition import PCA\n",
    "\n",
    "# 读取数据集\n",
    "data = pd.read_csv('shill_bidding.csv')\n",
    "\n",
    "# 查看数据集的前几行\n",
    "display(data.head())"
   ]
  },
  {
   "cell_type": "markdown",
   "id": "0f8d4530-634e-49d0-9226-c1a93be401b2",
   "metadata": {},
   "source": [
    "步骤2：数据预处理和特征标准化\n"
   ]
  },
  {
   "cell_type": "code",
   "execution_count": 5,
   "id": "f559ec3b-eb61-4a93-a432-5b3c8d7e451f",
   "metadata": {},
   "outputs": [
    {
     "data": {
      "text/plain": [
       "array([[ 1.71097905,  2.20429041,  3.18828508, ...,  1.21569663,\n",
       "         0.7867721 ,  0.95691672],\n",
       "       [ 1.78718435, -0.26571534,  1.40903901, ...,  0.00742892,\n",
       "        -0.84744794, -1.47066529],\n",
       "       [-0.34070222, -0.34432524, -0.37020705, ...,  0.03188474,\n",
       "        -0.84744794, -1.47066529],\n",
       "       ...,\n",
       "       [-0.64087431, -0.34432524, -0.37020705, ...,  0.60665508,\n",
       "        -0.84744794,  0.95691672],\n",
       "       [-0.09889693,  0.10487418, -0.37020705, ..., -0.89745647,\n",
       "         0.7867721 , -0.66147128],\n",
       "       [-0.12404468, -0.2871544 , -0.37020705, ...,  1.25328314,\n",
       "        -0.84744794,  0.95691672]])"
      ]
     },
     "metadata": {},
     "output_type": "display_data"
    }
   ],
   "source": [
    "# 提取特征和标签\n",
    "X = data.drop(columns=['Class', 'Record_ID', 'Auction_ID', 'Bidder_ID'])\n",
    "y = data['Class']\n",
    "\n",
    "# 划分训练集和测试集\n",
    "X_train, X_test, y_train, y_test = train_test_split(X, y, test_size=0.2, random_state=42)\n",
    "\n",
    "# 标准化特征\n",
    "scaler = StandardScaler()\n",
    "X_train_scaled = scaler.fit_transform(X_train)\n",
    "X_test_scaled = scaler.transform(X_test)\n",
    "\n",
    "display(X_train_scaled)"
   ]
  },
  {
   "cell_type": "markdown",
   "id": "247aa875-4357-4755-b645-1a2ecfc21296",
   "metadata": {},
   "source": [
    "步骤3：PCA降维\n"
   ]
  },
  {
   "cell_type": "code",
   "execution_count": 6,
   "id": "0ff6f6b0-42a6-4dd7-b234-ae17de5c60df",
   "metadata": {},
   "outputs": [
    {
     "name": "stdout",
     "output_type": "stream",
     "text": [
      "PCA后的特征数: 9\n"
     ]
    }
   ],
   "source": [
    "# 设定PCA降维后的特征数\n",
    "pca = PCA(n_components=0.999)\n",
    "X_train_pca = pca.fit_transform(X_train_scaled)\n",
    "X_test_pca = pca.transform(X_test_scaled)\n",
    "\n",
    "print(f'PCA后的特征数: {X_train_pca.shape[1]}')"
   ]
  },
  {
   "cell_type": "markdown",
   "id": "9c4a137a-535f-4f30-b5b1-52b2866adec0",
   "metadata": {},
   "source": [
    "# 实训2：构建基于竞标行为数据集的K-Means聚类模型\n"
   ]
  },
  {
   "cell_type": "markdown",
   "id": "5a396338-3d34-4908-a171-1c8563a111e8",
   "metadata": {},
   "source": [
    "步骤1：导入必要的库\n"
   ]
  },
  {
   "cell_type": "code",
   "execution_count": 22,
   "id": "fbd4239a-2755-4667-a9d6-5be268257529",
   "metadata": {},
   "outputs": [],
   "source": [
    "from sklearn.cluster import KMeans\n",
    "from sklearn.metrics import adjusted_rand_score, v_measure_score, fowlkes_mallows_score"
   ]
  },
  {
   "cell_type": "markdown",
   "id": "9c98e026-aae0-4413-9964-e94c01e06f98",
   "metadata": {},
   "source": [
    "步骤2：构建K-Means模型、并按要求的方法给出评分\n"
   ]
  },
  {
   "cell_type": "code",
   "execution_count": 11,
   "id": "e6c29d75-f4ec-40a5-9cc3-c0aa624552cf",
   "metadata": {},
   "outputs": [
    {
     "name": "stderr",
     "output_type": "stream",
     "text": [
      "C:\\Users\\ezra\\anaconda3\\lib\\site-packages\\sklearn\\cluster\\_kmeans.py:870: FutureWarning: The default value of `n_init` will change from 10 to 'auto' in 1.4. Set the value of `n_init` explicitly to suppress the warning\n",
      "  warnings.warn(\n"
     ]
    },
    {
     "name": "stdout",
     "output_type": "stream",
     "text": [
      "ARI: 0.8413594373186039, V-Measure: 0.7368999600504711, FMI: 0.9667623498850926\n"
     ]
    }
   ],
   "source": [
    "# 选择特征：竞标者倾向、竞标比率、连续竞标\n",
    "features = ['Bidder_Tendency', 'Bidding_Ratio', 'Successive_Outbidding']\n",
    "X_selected = data[features]\n",
    "\n",
    "# K-Means聚类\n",
    "kmeans = KMeans(n_clusters=2, random_state=42)\n",
    "kmeans.fit(X_selected)\n",
    "labels = kmeans.labels_\n",
    "\n",
    "# 评估聚类结果\n",
    "ari = adjusted_rand_score(data['Class'], labels)\n",
    "v_measure = v_measure_score(data['Class'], labels)\n",
    "fmi = fowlkes_mallows_score(data['Class'], labels)\n",
    "\n",
    "print(f'ARI: {ari}, V-Measure: {v_measure}, FMI: {fmi}')"
   ]
  },
  {
   "cell_type": "markdown",
   "id": "6016df9e-6208-4bda-babf-55a934757db7",
   "metadata": {},
   "source": [
    "# 实训3：构建基于竞标行为数据集的支持向量机分类模型\n"
   ]
  },
  {
   "cell_type": "markdown",
   "id": "d6b05233-f860-40b7-96b1-1b110e338375",
   "metadata": {},
   "source": [
    "步骤1：导入必要的库\n"
   ]
  },
  {
   "cell_type": "code",
   "execution_count": 13,
   "id": "6ad2bc6c-b421-4b23-8c3f-fa08e5b3eba6",
   "metadata": {},
   "outputs": [],
   "source": [
    "from sklearn.svm import SVC\n",
    "from sklearn.metrics import classification_report"
   ]
  },
  {
   "cell_type": "markdown",
   "id": "5edeff02-34a8-42b5-9ccc-17d1b04167f3",
   "metadata": {},
   "source": [
    "步骤2：构建支持向量机模型"
   ]
  },
  {
   "cell_type": "code",
   "execution_count": 15,
   "id": "a5f55c63-f21a-47af-bd0c-9419099022f3",
   "metadata": {},
   "outputs": [
    {
     "name": "stdout",
     "output_type": "stream",
     "text": [
      "              precision    recall  f1-score   support\n",
      "\n",
      "           0       0.99      0.98      0.99      1133\n",
      "           1       0.88      0.95      0.91       132\n",
      "\n",
      "    accuracy                           0.98      1265\n",
      "   macro avg       0.94      0.97      0.95      1265\n",
      "weighted avg       0.98      0.98      0.98      1265\n",
      "\n"
     ]
    }
   ],
   "source": [
    "# 标准化特征\n",
    "X_scaled = scaler.fit_transform(X)\n",
    "\n",
    "# 划分训练集和测试集\n",
    "X_train, X_test, y_train, y_test = train_test_split(X_scaled, y, test_size=0.2, random_state=42)\n",
    "\n",
    "# 构建SVM模型\n",
    "svm = SVC()\n",
    "svm.fit(X_train, y_train)\n",
    "\n",
    "# 预测和评估\n",
    "y_pred = svm.predict(X_test)\n",
    "report = classification_report(y_test, y_pred)\n",
    "print(report)"
   ]
  },
  {
   "cell_type": "markdown",
   "id": "ae0eb52a-5d9e-4151-ab91-e5d92176b2cf",
   "metadata": {},
   "source": [
    "# 实训4：构建基于竞标行为数据集的回归模型\n"
   ]
  },
  {
   "cell_type": "markdown",
   "id": "c8a3ab15-b0da-4682-925f-0b997916c2bd",
   "metadata": {},
   "source": [
    "步骤1：导入必要的库\n"
   ]
  },
  {
   "cell_type": "code",
   "execution_count": 18,
   "id": "682b3199-ca57-4360-a948-77daff521308",
   "metadata": {},
   "outputs": [],
   "source": [
    "from sklearn.linear_model import LinearRegression\n",
    "from sklearn.metrics import mean_squared_error, r2_score"
   ]
  },
  {
   "cell_type": "markdown",
   "id": "1afc628d-b4bc-4af9-ad85-c814bd788a69",
   "metadata": {},
   "source": [
    "步骤2：构建线性回归模型并评估 MSE、R^2 特征"
   ]
  },
  {
   "cell_type": "code",
   "execution_count": 21,
   "id": "cfef1ef8-46e2-4ec8-9325-a9cf09356be0",
   "metadata": {},
   "outputs": [
    {
     "name": "stdout",
     "output_type": "stream",
     "text": [
      "MSE: 0.0205196171580357, R^2: 0.780443416735419\n"
     ]
    }
   ],
   "source": [
    "# 选择目标变量和特征\n",
    "y = data['Class'] \n",
    "X = data.drop(columns=['Class', 'Record_ID', 'Auction_ID', 'Bidder_ID'])\n",
    "\n",
    "# 标准化特征\n",
    "X_scaled = scaler.fit_transform(X)\n",
    "\n",
    "# 划分训练集和测试集\n",
    "X_train, X_test, y_train, y_test = train_test_split(X_scaled, y, test_size=0.2, random_state=42)\n",
    "\n",
    "# 构建线性回归模型\n",
    "lr = LinearRegression()\n",
    "lr.fit(X_train, y_train)\n",
    "\n",
    "# 预测和评估\n",
    "y_pred = lr.predict(X_test)\n",
    "mse = mean_squared_error(y_test, y_pred)\n",
    "r2 = r2_score(y_test, y_pred)\n",
    "\n",
    "print(f'MSE: {mse}, R^2: {r2}')"
   ]
  },
  {
   "cell_type": "code",
   "execution_count": null,
   "id": "0d673f57-9e29-4cda-b769-d30a8eafa372",
   "metadata": {},
   "outputs": [],
   "source": []
  }
 ],
 "metadata": {
  "kernelspec": {
   "display_name": "Python 3 (ipykernel)",
   "language": "python",
   "name": "python3"
  },
  "language_info": {
   "codemirror_mode": {
    "name": "ipython",
    "version": 3
   },
   "file_extension": ".py",
   "mimetype": "text/x-python",
   "name": "python",
   "nbconvert_exporter": "python",
   "pygments_lexer": "ipython3",
   "version": "3.10.13"
  }
 },
 "nbformat": 4,
 "nbformat_minor": 5
}
